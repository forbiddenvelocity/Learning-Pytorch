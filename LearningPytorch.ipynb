{
  "nbformat": 4,
  "nbformat_minor": 0,
  "metadata": {
    "colab": {
      "provenance": [],
      "authorship_tag": "ABX9TyO/W/ZuS9Q/+ZcsQCLfiIxv",
      "include_colab_link": true
    },
    "kernelspec": {
      "name": "python3",
      "display_name": "Python 3"
    },
    "language_info": {
      "name": "python"
    }
  },
  "cells": [
    {
      "cell_type": "markdown",
      "metadata": {
        "id": "view-in-github",
        "colab_type": "text"
      },
      "source": [
        "<a href=\"https://colab.research.google.com/github/forbiddenvelocity/Learning-Pytorch/blob/main/LearningPytorch.ipynb\" target=\"_parent\"><img src=\"https://colab.research.google.com/assets/colab-badge.svg\" alt=\"Open In Colab\"/></a>"
      ]
    },
    {
      "cell_type": "markdown",
      "source": [
        "# Tensors\n"
      ],
      "metadata": {
        "id": "wgCwjKIDDQaO"
      }
    },
    {
      "cell_type": "markdown",
      "source": [
        "Tensor - A multidimensional matrix containing elements of a single data type."
      ],
      "metadata": {
        "id": "vqDU-DwsDV3t"
      }
    },
    {
      "cell_type": "code",
      "execution_count": 1,
      "metadata": {
        "colab": {
          "base_uri": "https://localhost:8080/"
        },
        "id": "QPTHDCDsDBkw",
        "outputId": "a1843d7b-32ec-485d-8667-95c545a57769"
      },
      "outputs": [
        {
          "output_type": "stream",
          "name": "stdout",
          "text": [
            "empty(1): tensor([-1.1906e-29])\n",
            "empty(3): tensor([-1.1906e-29,  4.5887e-41, -1.1906e-29])\n",
            "empty(2,3): tensor([[-1.1906e-29,  4.5887e-41, -4.6537e-06],\n",
            "        [ 3.1001e-41,  0.0000e+00,  3.1001e-41]])\n",
            "empty(2,2,3): tensor([[[-4.6408e-06,  3.1001e-41, -4.6511e-06],\n",
            "         [ 3.1001e-41,  1.3452e-43,  0.0000e+00]],\n",
            "\n",
            "        [[ 1.5695e-43,  0.0000e+00, -1.0785e+10],\n",
            "         [ 3.1005e-41,  4.1693e-38,  0.0000e+00]]])\n",
            "rand(5,3): tensor([[0.9540, 0.5816, 0.5827],\n",
            "        [0.4523, 0.9793, 0.4128],\n",
            "        [0.7195, 0.4361, 0.8305],\n",
            "        [0.1733, 0.4481, 0.9642],\n",
            "        [0.8389, 0.2867, 0.0145]])\n",
            "zeros(5,3): tensor([[0., 0., 0.],\n",
            "        [0., 0., 0.],\n",
            "        [0., 0., 0.],\n",
            "        [0., 0., 0.],\n",
            "        [0., 0., 0.]])\n",
            "ones(5,3): tensor([[1., 1., 1.],\n",
            "        [1., 1., 1.],\n",
            "        [1., 1., 1.],\n",
            "        [1., 1., 1.],\n",
            "        [1., 1., 1.]])\n"
          ]
        }
      ],
      "source": [
        "import torch\n",
        "\n",
        "#torch.empty(size): uninitiallized\n",
        "x = torch.empty(1) #scalar\n",
        "print(\"empty(1):\", x)\n",
        "x = torch.empty(3) #vector\n",
        "print(\"empty(3):\", x)\n",
        "x = torch.empty(2, 3) #matrix\n",
        "print(\"empty(2,3):\", x)\n",
        "x = torch.empty(2, 2, 3 ) #tensor\n",
        "print(\"empty(2,2,3):\", x)\n",
        "x = torch.rand(5, 3) #random matrix\n",
        "print(\"rand(5,3):\", x)\n",
        "\n",
        "#torch.zeros(size), fill with 0s\n",
        "#torch.ones(size), fill with 1s\n",
        "x = torch.zeros(5, 3)\n",
        "print(\"zeros(5,3):\", x)\n",
        "x = torch.ones(5, 3)\n",
        "print(\"ones(5,3):\", x)"
      ]
    },
    {
      "cell_type": "code",
      "source": [
        "#size\n",
        "print(\"size\", x.size())  #x.size(0)\n",
        "print(\"shape\", x.shape)  #x.shape[0]\n",
        "print(\"dim\", x.dim())  #x.dim()"
      ],
      "metadata": {
        "colab": {
          "base_uri": "https://localhost:8080/"
        },
        "id": "hix14OTbEdN4",
        "outputId": "58d869c1-37fa-460f-b623-ffca44f43dd3"
      },
      "execution_count": 2,
      "outputs": [
        {
          "output_type": "stream",
          "name": "stdout",
          "text": [
            "size torch.Size([5, 3])\n",
            "shape torch.Size([5, 3])\n",
            "dim 2\n"
          ]
        }
      ]
    },
    {
      "cell_type": "code",
      "source": [
        "#data type\n",
        "print(x.dtype)\n",
        "\n",
        "x = torch.zeros(5, 3, dtype=torch.float16)\n",
        "print(x)\n",
        "\n",
        "#check data type\n",
        "print(x.dtype)"
      ],
      "metadata": {
        "colab": {
          "base_uri": "https://localhost:8080/"
        },
        "id": "_yfQ50tqEmZN",
        "outputId": "1cb90ab2-1c01-433c-d520-493c1b0121c3"
      },
      "execution_count": 3,
      "outputs": [
        {
          "output_type": "stream",
          "name": "stdout",
          "text": [
            "torch.float32\n",
            "tensor([[0., 0., 0.],\n",
            "        [0., 0., 0.],\n",
            "        [0., 0., 0.],\n",
            "        [0., 0., 0.],\n",
            "        [0., 0., 0.]], dtype=torch.float16)\n",
            "torch.float16\n"
          ]
        }
      ]
    },
    {
      "cell_type": "code",
      "source": [
        "# construct from data\n",
        "x = torch.tensor([5.5, 3])\n",
        "print(x, x.dtype)"
      ],
      "metadata": {
        "colab": {
          "base_uri": "https://localhost:8080/"
        },
        "id": "iRPF9U7cE3zW",
        "outputId": "f1aaede8-93c3-470e-f916-2e21b2a92e53"
      },
      "execution_count": 5,
      "outputs": [
        {
          "output_type": "stream",
          "name": "stdout",
          "text": [
            "tensor([5.5000, 3.0000]) torch.float32\n"
          ]
        }
      ]
    },
    {
      "cell_type": "code",
      "source": [
        "x = torch.tensor([5.5, 3], requires_grad=True)\n",
        "print(x)\n",
        "#requires_grad argument\n",
        "#This tells pytorch that it will need to calculate the gradietns for this tensor\n",
        "#later in the optimization steps, this is a variable in your model that you want to optimize"
      ],
      "metadata": {
        "colab": {
          "base_uri": "https://localhost:8080/"
        },
        "id": "ieq3e6akFEJG",
        "outputId": "7b83b28f-891f-49cc-aaaf-cf2185d443e1"
      },
      "execution_count": 7,
      "outputs": [
        {
          "output_type": "stream",
          "name": "stdout",
          "text": [
            "tensor([5.5000, 3.0000], requires_grad=True)\n"
          ]
        }
      ]
    },
    {
      "cell_type": "markdown",
      "source": [
        "# Operations with Tensors"
      ],
      "metadata": {
        "id": "xO_N0M3BF6K7"
      }
    },
    {
      "cell_type": "code",
      "source": [
        "x = torch.ones(2,2)\n",
        "y = torch.rand(2,2)\n",
        "\n",
        "z = x + y #element wise addition\n",
        "# or torch.add(x,y)\n",
        "# y.add_(x)\n",
        "\n",
        "print(x)\n",
        "print(y)\n",
        "print(z)\n",
        "\n"
      ],
      "metadata": {
        "colab": {
          "base_uri": "https://localhost:8080/"
        },
        "id": "RKvgkP7PFcb7",
        "outputId": "42e04f17-fc45-48d8-cddd-3d5470fb1e06"
      },
      "execution_count": 8,
      "outputs": [
        {
          "output_type": "stream",
          "name": "stdout",
          "text": [
            "tensor([[1., 1.],\n",
            "        [1., 1.]])\n",
            "tensor([[0.3551, 0.3221],\n",
            "        [0.0142, 0.6702]])\n",
            "tensor([[1.3551, 1.3221],\n",
            "        [1.0142, 1.6702]])\n"
          ]
        }
      ]
    },
    {
      "cell_type": "code",
      "source": [
        "#subtraction\n",
        "z = x - y\n",
        "z = torch.sub(x,y)\n",
        "\n",
        "#multiplication\n",
        "z = torch.mul(x,y)\n",
        "z = x * y\n",
        "\n",
        "#division\n",
        "z = torch.div(x,y)\n",
        "z = torch.div(x,y)"
      ],
      "metadata": {
        "id": "vNjy3e6fGTHn"
      },
      "execution_count": 9,
      "outputs": []
    },
    {
      "cell_type": "code",
      "source": [
        "# slicing\n",
        "x = torch.rand(5,3)\n",
        "print(x)\n",
        "print(\"x[:, 0]\", x[:, 0]) # all rows, column 0\n",
        "print(\"x[1, :]\", x[1, :]) # row 1, all columns\n",
        "print(x[1, 1]) # element at row 1, column 1\n",
        "\n",
        "print(\"x[1,1].item()\", x[1,1].item())"
      ],
      "metadata": {
        "colab": {
          "base_uri": "https://localhost:8080/"
        },
        "id": "SANaGdfFGopi",
        "outputId": "6c046842-6406-445a-8961-8c8b2174baad"
      },
      "execution_count": 10,
      "outputs": [
        {
          "output_type": "stream",
          "name": "stdout",
          "text": [
            "tensor([[0.9685, 0.5182, 0.8885],\n",
            "        [0.3594, 0.5325, 0.5461],\n",
            "        [0.5271, 0.1268, 0.9829],\n",
            "        [0.2516, 0.8708, 0.7997],\n",
            "        [0.8452, 0.4711, 0.5992]])\n",
            "x[:, 0] tensor([0.9685, 0.3594, 0.5271, 0.2516, 0.8452])\n",
            "x[1, :] tensor([0.3594, 0.5325, 0.5461])\n",
            "tensor(0.5325)\n",
            "x[1,1].item() 0.5324912667274475\n"
          ]
        }
      ]
    },
    {
      "cell_type": "code",
      "source": [],
      "metadata": {
        "id": "7APu1cWzHHNZ"
      },
      "execution_count": null,
      "outputs": []
    }
  ]
}